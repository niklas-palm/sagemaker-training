{
 "cells": [
  {
   "cell_type": "code",
   "execution_count": null,
   "id": "331dd212-5ca3-40d9-99be-7a42503acb4c",
   "metadata": {},
   "outputs": [],
   "source": [
    "import sagemaker\n",
    "import torch\n",
    "import torchvision\n",
    "import torchvision.transforms as transforms\n",
    "\n",
    "role = sagemaker.get_execution_role()"
   ]
  },
  {
   "cell_type": "markdown",
   "id": "09027d28-5d88-47e4-9208-d006fc1bf2be",
   "metadata": {},
   "source": [
    "### Download and process data, then upload to S3 for training"
   ]
  },
  {
   "cell_type": "code",
   "execution_count": null,
   "id": "4ac995ac-6eaa-416d-952f-df24612d295d",
   "metadata": {
    "scrolled": true
   },
   "outputs": [],
   "source": [
    "# Download and prepare data\n",
    "transform = transforms.Compose([\n",
    "    transforms.ToTensor(),\n",
    "    transforms.Normalize((0.5,), (0.5,))\n",
    "])\n",
    "\n",
    "# Download and transform both training and test sets\n",
    "trainset = torchvision.datasets.FashionMNIST(\n",
    "    root='data', train=True, download=True, transform=transform\n",
    ")\n",
    "\n",
    "testset = torchvision.datasets.FashionMNIST(\n",
    "    root='data', train=False, download=True, transform=transform\n",
    ")\n",
    "\n",
    "# Save both datasets to disk\n",
    "torch.save(trainset, 'train_dataset.pt')\n",
    "torch.save(testset, 'test_dataset.pt')\n",
    "\n",
    "# Upload to S3\n",
    "session = sagemaker.Session()\n",
    "bucket = session.default_bucket()\n",
    "prefix = 'fashion-mnist'\n",
    "\n",
    "# Upload training data to S3\n",
    "train_data_path = session.upload_data(\n",
    "    path='train_dataset.pt',\n",
    "    bucket=bucket,\n",
    "    key_prefix=f'{prefix}/train'\n",
    ")\n",
    "\n",
    "# Upload test data to S3\n",
    "test_data_path = session.upload_data(\n",
    "    path='test_dataset.pt',\n",
    "    bucket=bucket,\n",
    "    key_prefix=f'{prefix}/test'\n",
    ")\n",
    "\n",
    "print(f\"Training data uploaded to: {train_data_path}\")\n",
    "print(f\"Test data uploaded to: {test_data_path}\")"
   ]
  },
  {
   "cell_type": "markdown",
   "id": "94a25448-4290-4642-b8d7-92cc31915729",
   "metadata": {},
   "source": [
    "### Create training job with data as input"
   ]
  },
  {
   "cell_type": "code",
   "execution_count": null,
   "id": "5a94c4ca-82f1-4e58-9d7e-ce309c04fe13",
   "metadata": {},
   "outputs": [],
   "source": [
    "from sagemaker.pytorch import PyTorch\n",
    "\n",
    "pytorch_estimator = PyTorch(\n",
    "    entry_point='train.py',\n",
    "    source_dir='src',\n",
    "    role=role,\n",
    "    instance_count=1,\n",
    "    instance_type='ml.m5.xlarge',\n",
    "    framework_version='2.0.1',\n",
    "    py_version='py310',\n",
    "    keep_alive_period_in_seconds=300, # Keep the instance alive for 300 seconds after the job has finished\n",
    ")\n",
    "\n",
    "pytorch_estimator.fit({\n",
    "    'training': train_data_path,\n",
    "    'testing': test_data_path\n",
    "})"
   ]
  },
  {
   "cell_type": "markdown",
   "id": "a7f861ec-eb5e-4d81-996d-4ebfdb4275b9",
   "metadata": {},
   "source": [
    "### Create training job with hyperparameters and custom metric definitions"
   ]
  },
  {
   "cell_type": "code",
   "execution_count": null,
   "id": "b37f10f1-6579-4373-be87-299cf505ba64",
   "metadata": {},
   "outputs": [],
   "source": [
    "# This parses stdout in the training job according to the below regexes\n",
    "metric_definitions = [\n",
    "    {'Name': 'train:loss', 'Regex': 'train_loss: (\\d+\\.\\d+)'},\n",
    "    {'Name': 'test:accuracy', 'Regex': 'test_accuracy: (\\d+\\.\\d+)'},\n",
    "    {'Name': 'test:loss', 'Regex': 'test_loss: (\\d+\\.\\d+)'},\n",
    "    {'Name': 'f1_score', 'Regex': 'f1_score: (\\d+\\.\\d+)'}\n",
    "]"
   ]
  },
  {
   "cell_type": "code",
   "execution_count": null,
   "id": "fa5e55b6-9247-43cf-abb5-d285e69373ac",
   "metadata": {
    "scrolled": true
   },
   "outputs": [],
   "source": [
    "from sagemaker.pytorch import PyTorch\n",
    "\n",
    "pytorch_estimator = PyTorch(\n",
    "    entry_point='train_extended.py',\n",
    "    source_dir='src',\n",
    "    role=role,\n",
    "    instance_count=1,\n",
    "    instance_type='ml.m5.xlarge',\n",
    "    framework_version='2.0.1',\n",
    "    py_version='py310',\n",
    "    hyperparameters={'epochs': 5, 'batch-size': 64}, # Pass hyper parameters to the job\n",
    "    metric_definitions=metric_definitions, # Pass the metric_definitions to the job\n",
    "    keep_alive_period_in_seconds=300, # Keep the instance alive for 300 seconds after the job has finished\n",
    ")\n",
    "\n",
    "pytorch_estimator.fit({\n",
    "    'training': train_data_path,\n",
    "    'testing': test_data_path\n",
    "})"
   ]
  },
  {
   "cell_type": "markdown",
   "id": "79cfa66f-3f44-4802-b63f-5157309b26c6",
   "metadata": {},
   "source": [
    "### Distributed training"
   ]
  },
  {
   "cell_type": "code",
   "execution_count": null,
   "id": "4207e63a-8b77-41b0-a497-f359b3e09d56",
   "metadata": {},
   "outputs": [],
   "source": [
    "metric_definitions = [\n",
    "    {'Name': 'train:loss', 'Regex': 'train_loss: (\\d+\\.\\d+)'},\n",
    "    {'Name': 'test:accuracy', 'Regex': 'test_accuracy: (\\d+\\.\\d+)'},\n",
    "    {'Name': 'test:loss', 'Regex': 'test_loss: (\\d+\\.\\d+)'},\n",
    "    {'Name': 'f1_score', 'Regex': 'f1_score: (\\d+\\.\\d+)'}\n",
    "]"
   ]
  },
  {
   "cell_type": "code",
   "execution_count": null,
   "id": "230b0311-972c-46c6-98ca-283242d936c0",
   "metadata": {
    "scrolled": true
   },
   "outputs": [],
   "source": [
    "from sagemaker.pytorch import PyTorch\n",
    "\n",
    "pytorch_estimator = PyTorch(\n",
    "    entry_point='train_distributed.py',\n",
    "    source_dir='src',\n",
    "    role=role,\n",
    "    instance_count=2,\n",
    "    instance_type='ml.m5.xlarge',\n",
    "    framework_version='2.1.0',\n",
    "    py_version='py310',\n",
    "    hyperparameters={'epochs': 5, 'batch-size': 64},  # Pass hyper parameters to the job\n",
    "    metric_definitions=metric_definitions,  # Pass the metric_definitions to the job\n",
    "    distribution={\n",
    "        \"pytorchddp\": {\n",
    "            \"enabled\": True\n",
    "        }\n",
    "    },\n",
    ")\n",
    "\n",
    "\n",
    "pytorch_estimator.fit({\n",
    "    'training': train_data_path,\n",
    "    'testing': test_data_path\n",
    "})"
   ]
  },
  {
   "cell_type": "code",
   "execution_count": null,
   "id": "a42f50ae-8f00-447e-a3b7-242bb907c5cc",
   "metadata": {},
   "outputs": [],
   "source": []
  }
 ],
 "metadata": {
  "kernelspec": {
   "display_name": "Python 3 (ipykernel)",
   "language": "python",
   "name": "python3"
  },
  "language_info": {
   "codemirror_mode": {
    "name": "ipython",
    "version": 3
   },
   "file_extension": ".py",
   "mimetype": "text/x-python",
   "name": "python",
   "nbconvert_exporter": "python",
   "pygments_lexer": "ipython3",
   "version": "3.10.14"
  }
 },
 "nbformat": 4,
 "nbformat_minor": 5
}
