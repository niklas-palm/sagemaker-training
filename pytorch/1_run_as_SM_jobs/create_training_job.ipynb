{
 "cells": [
  {
   "cell_type": "code",
   "execution_count": null,
   "id": "102f266c-5520-44f4-9965-6ea820946a09",
   "metadata": {},
   "outputs": [],
   "source": [
    "import sagemaker\n",
    "\n",
    "# Since i'm using SageMaker Studio, I'm fetching the default IAM execution role and will use that for the training job.\n",
    "role = sagemaker.get_execution_role() "
   ]
  },
  {
   "cell_type": "markdown",
   "id": "167d349d-2e84-4008-b2d4-d5567de7453e",
   "metadata": {},
   "source": [
    "### Create training job with generic estimator"
   ]
  },
  {
   "cell_type": "code",
   "execution_count": null,
   "id": "feb608ca-de51-4169-a866-2efbdd3c1ce8",
   "metadata": {},
   "outputs": [],
   "source": [
    "from sagemaker.estimator import Estimator\n",
    "\n",
    "estimator = Estimator(\n",
    "    entry_point='train.py',\n",
    "    source_dir='src',\n",
    "    image_uri='763104351884.dkr.ecr.eu-west-1.amazonaws.com/pytorch-training:2.0.1-cpu-py310',\n",
    "    role=role,\n",
    "    instance_count=1,\n",
    "    instance_type='ml.m5.xlarge',\n",
    ")\n",
    "\n",
    "estimator.fit()"
   ]
  },
  {
   "cell_type": "markdown",
   "id": "f021c669-2172-4783-8799-d4f2f56e9a95",
   "metadata": {},
   "source": [
    "### Create training job with PyTorch estimator"
   ]
  },
  {
   "cell_type": "code",
   "execution_count": null,
   "id": "f6b14ecf-d02d-457c-bee0-11b0125dcb97",
   "metadata": {},
   "outputs": [],
   "source": [
    "from sagemaker.pytorch import PyTorch\n",
    "\n",
    "pytorch_estimator = PyTorch(\n",
    "    entry_point='train.py',\n",
    "    source_dir='src',\n",
    "    role=role,\n",
    "    instance_count=1,\n",
    "    instance_type='ml.m5.xlarge',\n",
    "    framework_version='2.0.1',\n",
    "    py_version='py310',\n",
    "    keep_alive_period_in_seconds=1800,\n",
    ")\n",
    "\n",
    "pytorch_estimator.fit()"
   ]
  }
 ],
 "metadata": {
  "kernelspec": {
   "display_name": "Python 3 (ipykernel)",
   "language": "python",
   "name": "python3"
  },
  "language_info": {
   "codemirror_mode": {
    "name": "ipython",
    "version": 3
   },
   "file_extension": ".py",
   "mimetype": "text/x-python",
   "name": "python",
   "nbconvert_exporter": "python",
   "pygments_lexer": "ipython3",
   "version": "3.10.14"
  }
 },
 "nbformat": 4,
 "nbformat_minor": 5
}
